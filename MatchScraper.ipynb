{
 "cells": [
  {
   "cell_type": "code",
   "execution_count": null,
   "id": "f86a7dd5-4dd8-458f-9964-91c538ddcaf3",
   "metadata": {},
   "outputs": [],
   "source": [
    "import requests\n",
    "from bs4 import BeautifulSoup\n",
    "import time\n",
    "from io import StringIO\n",
    "import pandas as pd"
   ]
  },
  {
   "cell_type": "code",
   "execution_count": null,
   "id": "d7f5ca6d-2f7e-44c9-b425-e5b9360a3c6d",
   "metadata": {},
   "outputs": [],
   "source": [
    "years = list(range(2024, 2022, -1))"
   ]
  },
  {
   "cell_type": "code",
   "execution_count": null,
   "id": "128b9553-908b-4b99-8aeb-ea99905490d8",
   "metadata": {},
   "outputs": [],
   "source": [
    "all_matches = []"
   ]
  },
  {
   "cell_type": "code",
   "execution_count": null,
   "id": "402ed41b-5a7f-4b67-9ccf-90c2314bd3df",
   "metadata": {},
   "outputs": [],
   "source": [
    "standings_url = \"https://fbref.com/en/comps/12/La-Liga-Stats\""
   ]
  },
  {
   "cell_type": "code",
   "execution_count": null,
   "id": "d73e9d90-25ad-4448-87c7-0f4f46caaf6d",
   "metadata": {},
   "outputs": [],
   "source": [
    "for year in years:\n",
    "    data = requests.get(standings_url)\n",
    "    soup = BeautifulSoup(data.text, \"html.parser\")\n",
    "    standings_table = soup.select(\"table.stats_table\")[0]\n",
    "\n",
    "    table_html = str(standings_table)\n",
    "    html_data = StringIO(table_html)\n",
    "\n",
    "    matches = pd.read_html(html_data)[0]  # This will give you the first table found\n",
    "\n",
    "    links = [l.get(\"href\") for l in standings_table.find_all(\"a\")]\n",
    "    links = [l for l in links if \"/squads/\" in l]\n",
    "    team_urls = [f\"https://fbref.com{l}\" for l in links]\n",
    "\n",
    "    previous_season = soup.select(\"a.prev\")[0].get(\"href\")\n",
    "    standings_url = f\"https://fbref.com{previous_season}\"\n",
    "\n",
    "    for team_url in team_urls:\n",
    "        team_name = team_url.split(\"/\")[-1].replace(\"-Stats\",\"\").replace(\"-\",\" \")\n",
    "\n",
    "        data = requests.get(team_url)\n",
    "        html_data = StringIO(data.text)\n",
    "        matches = pd.read_html(html_data, match=\"Scores & Fixtures\")[0]\n",
    "\n",
    "        soup = BeautifulSoup(data.text, \"html.parser\")\n",
    "        links = [l.get(\"href\") for l in soup.find_all(\"a\")]\n",
    "        links = [l for l in links if l and \"all_comps/shooting/\" in l]\n",
    "        data = requests.get(f\"https://fbref.com{links[0]}\")\n",
    "        html_data = StringIO(data.text)\n",
    "        shooting = pd.read_html(html_data, match=\"Shooting\")[0]\n",
    "        shooting.columns = shooting.columns.droplevel()\n",
    "\n",
    "        try:\n",
    "            team_data = matches.merge(shooting[[\"Date\", \"Sh\", \"SoT\", \"Dist\", \"FK\", \"PK\", \"PKatt\"]], on=\"Date\")\n",
    "        except ValueError:\n",
    "            continue\n",
    "\n",
    "        team_data = team_data[team_data[\"Comp\"] == \"La Liga\"]\n",
    "        team_data[\"Season\"] = year\n",
    "        team_data[\"Team\"] = team_name\n",
    "        all_matches.append(team_data)\n",
    "        time.sleep(1)\n"
   ]
  },
  {
   "cell_type": "code",
   "execution_count": null,
   "id": "06752461-b39e-4527-a70b-e8b1daf5ddba",
   "metadata": {},
   "outputs": [],
   "source": [
    "match_df = pd.concat(all_matches, ignore_index=True)"
   ]
  },
  {
   "cell_type": "code",
   "execution_count": null,
   "id": "8c784d29-bcc6-4218-9cee-1c2d248ac3dd",
   "metadata": {},
   "outputs": [],
   "source": [
    "match_df.to_csv(\"matches.csv\", index=False)"
   ]
  }
 ],
 "metadata": {
  "kernelspec": {
   "display_name": "Python 3 (ipykernel)",
   "language": "python",
   "name": "python3"
  },
  "language_info": {
   "codemirror_mode": {
    "name": "ipython",
    "version": 3
   },
   "file_extension": ".py",
   "mimetype": "text/x-python",
   "name": "python",
   "nbconvert_exporter": "python",
   "pygments_lexer": "ipython3",
   "version": "3.12.8"
  }
 },
 "nbformat": 4,
 "nbformat_minor": 5
}
